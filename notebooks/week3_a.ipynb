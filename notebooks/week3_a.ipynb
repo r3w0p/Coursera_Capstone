{
 "cells": [
  {
   "cell_type": "markdown",
   "source": [
    "### Peer-graded Assignment: Segmenting and Clustering Neighborhoods in Toronto"
   ],
   "metadata": {
    "collapsed": false,
    "pycharm": {
     "name": "#%% md\n"
    }
   }
  },
  {
   "cell_type": "markdown",
   "source": [
    "We first import all of our dependent modules."
   ],
   "metadata": {
    "collapsed": false
   }
  },
  {
   "cell_type": "code",
   "execution_count": 297,
   "metadata": {
    "collapsed": true,
    "pycharm": {
     "is_executing": false
    }
   },
   "outputs": [],
   "source": [
    "import os\n",
    "import pandas as pd\n",
    "import requests\n",
    "from bs4 import BeautifulSoup"
   ]
  },
  {
   "cell_type": "markdown",
   "source": [
    "Now we get the HTML from the Wikipedia website and pass it to a BeautifulSoup object.\n",
    "We show the first 250 characters of the HTML."
   ],
   "metadata": {
    "collapsed": false
   }
  },
  {
   "cell_type": "code",
   "execution_count": 298,
   "outputs": [
    {
     "name": "stdout",
     "text": [
      "<!DOCTYPE html>\n<html class=\"client-nojs\" dir=\"ltr\" lang=\"en\">\n <head>\n  <meta charset=\"utf-8\"/>\n  <title>\n   List of postal codes of Canada: M - Wikipedia\n  </title>\n  <script>\n   document.documentElement.className=document.documentElement.className\n"
     ],
     "output_type": "stream"
    }
   ],
   "source": [
    "url = 'https://en.wikipedia.org/wiki/List_of_postal_codes_of_Canada:_M'\n",
    "html_text = requests.get(url).text\n",
    "soup = BeautifulSoup(html_text, 'html.parser')\n",
    "print(soup.prettify()[:250])"
   ],
   "metadata": {
    "collapsed": false,
    "pycharm": {
     "name": "#%%\n",
     "is_executing": false
    }
   }
  },
  {
   "cell_type": "markdown",
   "source": [
    "Locate the data table and find its rows.\n",
    "We show the first 5 rows of the table HTML."
   ],
   "metadata": {
    "collapsed": false,
    "pycharm": {
     "name": "#%% md\n"
    }
   }
  },
  {
   "cell_type": "code",
   "execution_count": 299,
   "outputs": [
    {
     "name": "stdout",
     "text": [
      "[<tr>\n<th>Postcode</th>\n<th>Borough</th>\n<th>Neighbourhood\n</th></tr>, <tr>\n<td>M1A</td>\n<td>Not assigned</td>\n<td>Not assigned\n</td></tr>, <tr>\n<td>M2A</td>\n<td>Not assigned</td>\n<td>Not assigned\n</td></tr>, <tr>\n<td>M3A</td>\n<td><a href=\"/wiki/North_York\" title=\"North York\">North York</a></td>\n<td><a href=\"/wiki/Parkwoods\" title=\"Parkwoods\">Parkwoods</a>\n</td></tr>, <tr>\n<td>M4A</td>\n<td><a href=\"/wiki/North_York\" title=\"North York\">North York</a></td>\n<td><a href=\"/wiki/Victoria_Village\" title=\"Victoria Village\">Victoria Village</a>\n</td></tr>]\n"
     ],
     "output_type": "stream"
    }
   ],
   "source": [
    "table = soup.findAll(\"table\", {\"class\": \"wikitable sortable\"})[0]\n",
    "tbody = soup.find(\"tbody\")\n",
    "trs = tbody.findAll(\"tr\")\n",
    "print(trs[:5])"
   ],
   "metadata": {
    "collapsed": false,
    "pycharm": {
     "name": "#%%\n",
     "is_executing": false
    }
   }
  },
  {
   "cell_type": "markdown",
   "source": [
    "Now, we go through each row of the data table and store it in a list called `data`."
   ],
   "metadata": {
    "collapsed": false
   }
  },
  {
   "cell_type": "code",
   "execution_count": 300,
   "outputs": [],
   "source": [
    "col_postalcode = 'PostalCode'\n",
    "col_borough = 'Borough'\n",
    "col_neighborhood = 'Neighborhood'\n",
    "not_assigned = 'Not assigned'\n",
    "data = []\n",
    "\n",
    "# Iterate through the rows\n",
    "for tr in trs:\n",
    "    tds = tr.findAll(\"td\")\n",
    "    # Three td elements, one for each column value\n",
    "    if len(tds) == 3:\n",
    "        postalcode = tds[0].text.strip()\n",
    "        borough = tds[1].find(\"a\")\n",
    "        neighborhood = tds[2].find(\"a\")\n",
    "        \n",
    "        # Sometimes a row has a hyperlink (<a> tag) and sometimes it doesn't.\n",
    "        # Check if the .find(\"a\") above returned None. If so, strip text from td instead.\n",
    "        borough = borough.text.strip() if borough is not None else tds[1].text.strip()\n",
    "        neighborhood = neighborhood.text.strip() if neighborhood is not None else tds[2].text.strip()\n",
    "        \n",
    "        # Skip if borough is not assigned\n",
    "        if borough == not_assigned:\n",
    "            continue\n",
    "        \n",
    "        # Use borough name for neighborhood if neighborhood is not assigned\n",
    "        if neighborhood == not_assigned:\n",
    "            neighborhood = borough\n",
    "        \n",
    "        # Add to data\n",
    "        data.append({\n",
    "            col_postalcode: postalcode,\n",
    "            col_borough: borough,\n",
    "            col_neighborhood: neighborhood\n",
    "        })\n",
    "    else:\n",
    "        continue"
   ],
   "metadata": {
    "collapsed": false,
    "pycharm": {
     "name": "#%%\n",
     "is_executing": false
    }
   }
  },
  {
   "cell_type": "markdown",
   "source": [
    "Create a dataframe using the rows in `data`.\n",
    "We sort by PostalCode and show the top 10 rows."
   ],
   "metadata": {
    "collapsed": false
   }
  },
  {
   "cell_type": "code",
   "execution_count": 301,
   "outputs": [
    {
     "data": {
      "text/plain": "   PostalCode      Borough    Neighborhood\n8         M1B  Scarborough           Rouge\n9         M1B  Scarborough         Malvern\n23        M1C  Scarborough      Port Union\n22        M1C  Scarborough      Rouge Hill\n21        M1C  Scarborough  Highland Creek\n33        M1E  Scarborough       Guildwood\n34        M1E  Scarborough     Morningside\n35        M1E  Scarborough       West Hill\n39        M1G  Scarborough          Woburn\n43        M1H  Scarborough       Cedarbrae",
      "text/html": "<div>\n<style scoped>\n    .dataframe tbody tr th:only-of-type {\n        vertical-align: middle;\n    }\n\n    .dataframe tbody tr th {\n        vertical-align: top;\n    }\n\n    .dataframe thead th {\n        text-align: right;\n    }\n</style>\n<table border=\"1\" class=\"dataframe\">\n  <thead>\n    <tr style=\"text-align: right;\">\n      <th></th>\n      <th>PostalCode</th>\n      <th>Borough</th>\n      <th>Neighborhood</th>\n    </tr>\n  </thead>\n  <tbody>\n    <tr>\n      <th>8</th>\n      <td>M1B</td>\n      <td>Scarborough</td>\n      <td>Rouge</td>\n    </tr>\n    <tr>\n      <th>9</th>\n      <td>M1B</td>\n      <td>Scarborough</td>\n      <td>Malvern</td>\n    </tr>\n    <tr>\n      <th>23</th>\n      <td>M1C</td>\n      <td>Scarborough</td>\n      <td>Port Union</td>\n    </tr>\n    <tr>\n      <th>22</th>\n      <td>M1C</td>\n      <td>Scarborough</td>\n      <td>Rouge Hill</td>\n    </tr>\n    <tr>\n      <th>21</th>\n      <td>M1C</td>\n      <td>Scarborough</td>\n      <td>Highland Creek</td>\n    </tr>\n    <tr>\n      <th>33</th>\n      <td>M1E</td>\n      <td>Scarborough</td>\n      <td>Guildwood</td>\n    </tr>\n    <tr>\n      <th>34</th>\n      <td>M1E</td>\n      <td>Scarborough</td>\n      <td>Morningside</td>\n    </tr>\n    <tr>\n      <th>35</th>\n      <td>M1E</td>\n      <td>Scarborough</td>\n      <td>West Hill</td>\n    </tr>\n    <tr>\n      <th>39</th>\n      <td>M1G</td>\n      <td>Scarborough</td>\n      <td>Woburn</td>\n    </tr>\n    <tr>\n      <th>43</th>\n      <td>M1H</td>\n      <td>Scarborough</td>\n      <td>Cedarbrae</td>\n    </tr>\n  </tbody>\n</table>\n</div>"
     },
     "metadata": {},
     "output_type": "execute_result",
     "execution_count": 301
    }
   ],
   "source": [
    "df = pd.DataFrame(data, columns=[col_postalcode, col_borough, col_neighborhood])\n",
    "df.sort_values(col_postalcode).head(10)"
   ],
   "metadata": {
    "collapsed": false,
    "pycharm": {
     "name": "#%%\n",
     "is_executing": false
    }
   }
  },
  {
   "cell_type": "markdown",
   "source": [
    "We see that Scarborough has multiple neighborhoods per postal code.\n",
    "We will group these together, as follows.\n",
    "We sort by PostalCode and show the top 5 rows."
   ],
   "metadata": {
    "collapsed": false
   }
  },
  {
   "cell_type": "code",
   "execution_count": 302,
   "outputs": [
    {
     "data": {
      "text/plain": "  PostalCode      Borough                            Neighborhood\n0        M1B  Scarborough                          Rouge, Malvern\n1        M1C  Scarborough  Highland Creek, Rouge Hill, Port Union\n2        M1E  Scarborough       Guildwood, Morningside, West Hill\n3        M1G  Scarborough                                  Woburn\n4        M1H  Scarborough                               Cedarbrae",
      "text/html": "<div>\n<style scoped>\n    .dataframe tbody tr th:only-of-type {\n        vertical-align: middle;\n    }\n\n    .dataframe tbody tr th {\n        vertical-align: top;\n    }\n\n    .dataframe thead th {\n        text-align: right;\n    }\n</style>\n<table border=\"1\" class=\"dataframe\">\n  <thead>\n    <tr style=\"text-align: right;\">\n      <th></th>\n      <th>PostalCode</th>\n      <th>Borough</th>\n      <th>Neighborhood</th>\n    </tr>\n  </thead>\n  <tbody>\n    <tr>\n      <th>0</th>\n      <td>M1B</td>\n      <td>Scarborough</td>\n      <td>Rouge, Malvern</td>\n    </tr>\n    <tr>\n      <th>1</th>\n      <td>M1C</td>\n      <td>Scarborough</td>\n      <td>Highland Creek, Rouge Hill, Port Union</td>\n    </tr>\n    <tr>\n      <th>2</th>\n      <td>M1E</td>\n      <td>Scarborough</td>\n      <td>Guildwood, Morningside, West Hill</td>\n    </tr>\n    <tr>\n      <th>3</th>\n      <td>M1G</td>\n      <td>Scarborough</td>\n      <td>Woburn</td>\n    </tr>\n    <tr>\n      <th>4</th>\n      <td>M1H</td>\n      <td>Scarborough</td>\n      <td>Cedarbrae</td>\n    </tr>\n  </tbody>\n</table>\n</div>"
     },
     "metadata": {},
     "output_type": "execute_result",
     "execution_count": 302
    }
   ],
   "source": [
    "df = df.groupby([col_postalcode, col_borough])\\\n",
    "    .apply(lambda x: ', '.join(x[col_neighborhood].values))\\\n",
    "    .reset_index()\n",
    "\n",
    "df.columns=[col_postalcode, col_borough, col_neighborhood]\n",
    "df.sort_values(col_postalcode).head()"
   ],
   "metadata": {
    "collapsed": false,
    "pycharm": {
     "name": "#%%\n",
     "is_executing": false
    }
   }
  },
  {
   "cell_type": "markdown",
   "source": [
    "We save the final dataframe and print its shape."
   ],
   "metadata": {
    "collapsed": false,
    "pycharm": {
     "name": "#%% md\n"
    }
   }
  },
  {
   "cell_type": "code",
   "execution_count": 303,
   "outputs": [
    {
     "data": {
      "text/plain": "(103, 3)"
     },
     "metadata": {},
     "output_type": "execute_result",
     "execution_count": 303
    }
   ],
   "source": [
    "df.to_csv(os.path.join('..', 'data', 'week3_a.csv'), index=False)\n",
    "df.shape"
   ],
   "metadata": {
    "collapsed": false,
    "pycharm": {
     "name": "#%%\n",
     "is_executing": false
    }
   }
  }
 ],
 "metadata": {
  "language_info": {
   "codemirror_mode": {
    "name": "ipython",
    "version": 2
   },
   "file_extension": ".py",
   "mimetype": "text/x-python",
   "name": "python",
   "nbconvert_exporter": "python",
   "pygments_lexer": "ipython2",
   "version": "2.7.6"
  },
  "kernelspec": {
   "name": "python3",
   "language": "python",
   "display_name": "Python 3"
  },
  "pycharm": {
   "stem_cell": {
    "cell_type": "raw",
    "source": [],
    "metadata": {
     "collapsed": false
    }
   }
  }
 },
 "nbformat": 4,
 "nbformat_minor": 0
}